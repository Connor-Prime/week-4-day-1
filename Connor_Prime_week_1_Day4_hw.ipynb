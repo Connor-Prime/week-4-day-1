{
 "cells": [
  {
   "cell_type": "markdown",
   "metadata": {},
   "source": [
    "# Regular Expressions"
   ]
  },
  {
   "cell_type": "markdown",
   "metadata": {},
   "source": [
    "### In-Class Exercise #3 <br>\n",
    "<p>Print each persons name and twitter handle, using groups, should look like:</p>\n",
    "<p>==============<br>\n",
    "   Full Name / Twitter<br>\n",
    "   ==============</p>\n",
    "Derek Hawkins / @derekhawkins\n",
    "\n",
    " Erik Sven-Osterberg / @sverik\n",
    "\n",
    " Ryan Butz / @ryanbutz\n",
    "\n",
    " Example Exampleson / @example\n",
    "\n",
    " Ripal Pael / @ripalp\n",
    "\n",
    " Darth Vader / @darthvader"
   ]
  },
  {
   "cell_type": "code",
   "execution_count": 85,
   "metadata": {
    "scrolled": true
   },
   "outputs": [
    {
     "name": "stdout",
     "output_type": "stream",
     "text": [
      "==============\n",
      "Full Name / Twitter\n",
      "==============\n",
      " Derek Hawkins / @derekhawkins\n",
      " Mo Zhai / @codingtemple\n",
      " Joe Johnson / @codingtemple\n",
      " Sven-Erik Osterberg / @sverik\n",
      " Tim  / @killerrabbit\n",
      " Ryan Butz / @ryanbutz\n",
      " The Doctor / @tardis\n",
      " Example Exampleson / @example\n",
      " Ripal Pael / @ripalp\n",
      " Darth Vader / @darthvader\n",
      " Maria Teresa Fernandez de la Vega Sanz / @spain\n"
     ]
    }
   ],
   "source": [
    "import re\n",
    "\n",
    "with open(\"names.txt\") as f:\n",
    "    data = f.readlines()\n",
    "\n",
    "    print(\"==============\\nFull Name / Twitter\\n==============\")\n",
    "    for line in data:\n",
    "    # Gets words left of email\n",
    "        left_of_at = re.split(r\"[\\S]+@\",line)[0]\n",
    "\n",
    "        # Splits them with comma getting (first, last)\n",
    "        first_last = re.split(\",\",left_of_at)\n",
    "\n",
    "        # Revereses the string, gets the stuff before the @ sign and reverses it again\n",
    "        handle = re.search('([a-z]+[@])',line[::-1]).group(0)[::-1]\n",
    "                                   # Gets rid of the \\t on the end\n",
    "        first_name = first_last[1][0:len(first_last[1])-1:1]\n",
    "        last_name = first_last[0]\n",
    "        \n",
    "        print(f'{first_name} {last_name} / {handle}')\n",
    "    data2=f.read()\n",
    "    f.close()"
   ]
  },
  {
   "cell_type": "code",
   "execution_count": null,
   "metadata": {},
   "outputs": [],
   "source": [
    "\"\"\"\n",
    "Expected Output\n",
    "Abraham Lincoln\n",
    "Andrew P Garfield\n",
    "Connor Milliken\n",
    "Jordan Alexander Williams\n",
    "None\n",
    "None\n",
    "\"\"\""
   ]
  },
  {
   "cell_type": "code",
   "execution_count": null,
   "metadata": {},
   "outputs": [],
   "source": []
  }
 ],
 "metadata": {
  "kernelspec": {
   "display_name": "Python 3 (ipykernel)",
   "language": "python",
   "name": "python3"
  },
  "language_info": {
   "codemirror_mode": {
    "name": "ipython",
    "version": 3
   },
   "file_extension": ".py",
   "mimetype": "text/x-python",
   "name": "python",
   "nbconvert_exporter": "python",
   "pygments_lexer": "ipython3",
   "version": "3.11.4"
  }
 },
 "nbformat": 4,
 "nbformat_minor": 4
}
