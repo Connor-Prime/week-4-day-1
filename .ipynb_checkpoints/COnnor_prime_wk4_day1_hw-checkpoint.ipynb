{
 "cells": [
  {
   "cell_type": "markdown",
   "metadata": {},
   "source": [
    "### In-Class Exercise #3 <br>\n",
    "<p>Print each persons name and twitter handle, using groups, should look like:</p>\n",
    "<p>==============<br>\n",
    "   Full Name / Twitter<br>\n",
    "   ==============</p>\n",
    "Derek Hawkins / @derekhawkins\n",
    "\n",
    " Erik Sven-Osterberg / @sverik\n",
    "\n",
    " Ryan Butz / @ryanbutz\n",
    "\n",
    " Example Exampleson / @example\n",
    "\n",
    " Ripal Pael / @ripalp\n",
    "\n",
    " Darth Vader / @darthvader"
   ]
  },
  {
   "cell_type": "code",
   "execution_count": 48,
   "metadata": {
    "scrolled": true
   },
   "outputs": [
    {
     "name": "stdout",
     "output_type": "stream",
     "text": [
      "==============\n",
      "Full Name / Twitter\n",
      "==============\n",
      "Hawkins  Derek / None\n",
      "Zhai  Mo / None\n",
      "Johnson  Joe / None\n",
      "Osterberg  Sven-Erik / None\n",
      "  Tim / None\n",
      "Butz  Ryan / None\n",
      "Doctor  The / None\n",
      "Exampleson  Example / None\n",
      "Pael  Ripal / None\n",
      "Vader  Darth / None\n",
      "Fernandez de la Vega Sanz  Maria Teresa / None\n"
     ]
    }
   ],
   "source": [
    "import re\n",
    "\n",
    "with open(\"names.txt\") as f:\n",
    "    data = f.readlines()\n",
    "\n",
    "    print(\"==============\\nFull Name / Twitter\\n==============\")\n",
    "    for line in data:\n",
    "    # Gets words left of email\n",
    "\n",
    "        pattern = re.compile(r\"^(.*),(.*)([\\s][\\S]+@)\")\n",
    "        left_of_at = re.search(pattern,line)\n",
    "\n",
    "        # Revereses the string, gets the stuff before the @ sign and reverses it again\n",
    "\n",
    "        handle = re.search('([@][a-z]+)',line).group(0)\n",
    "                                   # Gets rid of the \\t on the end\n",
    "        first_name = left_of_at.group(1)\n",
    "        last_name = left_of_at.group(2)\n",
    "        \n",
    "        print(f'{first_name} {last_name} / {handle}')\n",
    "    data2=f.read()\n",
    "    f.close()"
   ]
  },
  {
   "cell_type": "markdown",
   "metadata": {},
   "source": [
    "### Regex project\n",
    "\n",
    "Use python to read the file regex_test.txt and print the last name on each line using regular expressions and groups (return None for names with no first and last name, or names that aren't properly capitalized)\n",
    "##### Hint: use with open() and readlines()"
   ]
  },
  {
   "cell_type": "code",
   "execution_count": 24,
   "metadata": {},
   "outputs": [
    {
     "name": "stdout",
     "output_type": "stream",
     "text": [
      "Abraham Lincoln\n",
      "Andrew P Garfield\n",
      "Connor Milliken\n",
      "Jordan Alexander Williams\n",
      "None\n",
      "None\n"
     ]
    },
    {
     "data": {
      "text/plain": [
       "'\\nExpected Output\\nAbraham Lincoln\\nAndrew P Garfield\\nConnor Milliken\\nJordan Alexander Williams\\nNone\\nNone\\n'"
      ]
     },
     "execution_count": 24,
     "metadata": {},
     "output_type": "execute_result"
    }
   ],
   "source": [
    "import re\n",
    "\n",
    "with open(\"regex_test.txt\") as f:\n",
    "    lines = f.readlines()\n",
    "\n",
    "    for line in lines:\n",
    "        pattern = re.compile('[A-Z][a-z]+([\\s]+[A-Z][a-z]*)+')\n",
    "        \n",
    "        name = re.search(pattern,line)\n",
    "\n",
    "        if name:\n",
    "            print(name.group())\n",
    "        else:\n",
    "            print(None)\n",
    "    f.close()\n",
    "\n",
    "\"\"\"\n",
    "Expected Output\n",
    "Abraham Lincoln\n",
    "Andrew P Garfield\n",
    "Connor Milliken\n",
    "Jordan Alexander Williams\n",
    "None\n",
    "None\n",
    "\"\"\""
   ]
  },
  {
   "cell_type": "code",
   "execution_count": null,
   "metadata": {},
   "outputs": [],
   "source": []
  },
  {
   "cell_type": "code",
   "execution_count": null,
   "metadata": {},
   "outputs": [],
   "source": []
  }
 ],
 "metadata": {
  "kernelspec": {
   "display_name": "Python 3 (ipykernel)",
   "language": "python",
   "name": "python3"
  },
  "language_info": {
   "codemirror_mode": {
    "name": "ipython",
    "version": 3
   },
   "file_extension": ".py",
   "mimetype": "text/x-python",
   "name": "python",
   "nbconvert_exporter": "python",
   "pygments_lexer": "ipython3",
   "version": "3.11.4"
  }
 },
 "nbformat": 4,
 "nbformat_minor": 4
}
